{
  "cells": [
    {
      "cell_type": "markdown",
      "metadata": {
        "id": "view-in-github",
        "colab_type": "text"
      },
      "source": [
        "<a href=\"https://colab.research.google.com/github/FeFiFoFaiza/EAS4940/blob/main/PS1_MassBalance.ipynb\" target=\"_parent\"><img src=\"https://colab.research.google.com/assets/colab-badge.svg\" alt=\"Open In Colab\"/></a>"
      ]
    },
    {
      "cell_type": "markdown",
      "metadata": {
        "id": "VrUPXS5XKJHI"
      },
      "source": [
        "# Mass Balance, Glacier Flow, and Response to a Changing Climate"
      ]
    },
    {
      "cell_type": "markdown",
      "metadata": {
        "id": "BODGdEz3KJHK"
      },
      "source": [
        "In class, we discussed the mass balance of glaciers and its relationship with ice flow. In this notebook, we will use OGGM to simulate some of these concepts. Then, we will look at how surface mass balance gradients on glacier impact their response to a chnaging climate. Finally, you will write some of your own code to explore how long it takes a glacier to respond to a change in climate and what that means that sea level rise."
      ]
    },
    {
      "cell_type": "markdown",
      "metadata": {
        "id": "zB0JxbxyKJHM"
      },
      "source": [
        "First, we need to install OGGM and import the relevant classes."
      ]
    },
    {
      "cell_type": "code",
      "source": [
        "!pip install oggm\n",
        "!pip install git+https://github.com/OGGM/oggm-edu"
      ],
      "metadata": {
        "id": "cjFLbWPUOmWE",
        "colab": {
          "base_uri": "https://localhost:8080/"
        },
        "outputId": "86df61ff-5ed8-4d8b-fd8d-ac618fe758b6"
      },
      "execution_count": null,
      "outputs": [
        {
          "output_type": "stream",
          "name": "stdout",
          "text": [
            "Collecting oggm\n",
            "  Downloading oggm-1.6.1-py2.py3-none-any.whl (418 kB)\n",
            "\u001b[2K     \u001b[90m━━━━━━━━━━━━━━━━━━━━━━━━━━━━━━━━━━━━━━━━\u001b[0m \u001b[32m418.8/418.8 kB\u001b[0m \u001b[31m2.6 MB/s\u001b[0m eta \u001b[36m0:00:00\u001b[0m\n",
            "\u001b[?25hRequirement already satisfied: numpy in /usr/local/lib/python3.10/dist-packages (from oggm) (1.23.5)\n",
            "Requirement already satisfied: scipy in /usr/local/lib/python3.10/dist-packages (from oggm) (1.11.4)\n",
            "Requirement already satisfied: pandas in /usr/local/lib/python3.10/dist-packages (from oggm) (1.5.3)\n",
            "Requirement already satisfied: matplotlib in /usr/local/lib/python3.10/dist-packages (from oggm) (3.7.1)\n",
            "Requirement already satisfied: shapely in /usr/local/lib/python3.10/dist-packages (from oggm) (2.0.2)\n",
            "Requirement already satisfied: requests in /usr/local/lib/python3.10/dist-packages (from oggm) (2.31.0)\n",
            "Collecting configobj (from oggm)\n",
            "  Downloading configobj-5.0.8-py2.py3-none-any.whl (36 kB)\n",
            "Collecting netcdf4 (from oggm)\n",
            "  Downloading netCDF4-1.6.5-cp310-cp310-manylinux_2_17_x86_64.manylinux2014_x86_64.whl (5.5 MB)\n",
            "\u001b[2K     \u001b[90m━━━━━━━━━━━━━━━━━━━━━━━━━━━━━━━━━━━━━━━━\u001b[0m \u001b[32m5.5/5.5 MB\u001b[0m \u001b[31m23.4 MB/s\u001b[0m eta \u001b[36m0:00:00\u001b[0m\n",
            "\u001b[?25hRequirement already satisfied: xarray in /usr/local/lib/python3.10/dist-packages (from oggm) (2023.7.0)\n",
            "Requirement already satisfied: six in /usr/local/lib/python3.10/dist-packages (from configobj->oggm) (1.16.0)\n",
            "Requirement already satisfied: contourpy>=1.0.1 in /usr/local/lib/python3.10/dist-packages (from matplotlib->oggm) (1.2.0)\n",
            "Requirement already satisfied: cycler>=0.10 in /usr/local/lib/python3.10/dist-packages (from matplotlib->oggm) (0.12.1)\n",
            "Requirement already satisfied: fonttools>=4.22.0 in /usr/local/lib/python3.10/dist-packages (from matplotlib->oggm) (4.47.2)\n",
            "Requirement already satisfied: kiwisolver>=1.0.1 in /usr/local/lib/python3.10/dist-packages (from matplotlib->oggm) (1.4.5)\n",
            "Requirement already satisfied: packaging>=20.0 in /usr/local/lib/python3.10/dist-packages (from matplotlib->oggm) (23.2)\n",
            "Requirement already satisfied: pillow>=6.2.0 in /usr/local/lib/python3.10/dist-packages (from matplotlib->oggm) (9.4.0)\n",
            "Requirement already satisfied: pyparsing>=2.3.1 in /usr/local/lib/python3.10/dist-packages (from matplotlib->oggm) (3.1.1)\n",
            "Requirement already satisfied: python-dateutil>=2.7 in /usr/local/lib/python3.10/dist-packages (from matplotlib->oggm) (2.8.2)\n",
            "Collecting cftime (from netcdf4->oggm)\n",
            "  Downloading cftime-1.6.3-cp310-cp310-manylinux_2_17_x86_64.manylinux2014_x86_64.whl (1.3 MB)\n",
            "\u001b[2K     \u001b[90m━━━━━━━━━━━━━━━━━━━━━━━━━━━━━━━━━━━━━━━━\u001b[0m \u001b[32m1.3/1.3 MB\u001b[0m \u001b[31m25.9 MB/s\u001b[0m eta \u001b[36m0:00:00\u001b[0m\n",
            "\u001b[?25hRequirement already satisfied: certifi in /usr/local/lib/python3.10/dist-packages (from netcdf4->oggm) (2023.11.17)\n",
            "Requirement already satisfied: pytz>=2020.1 in /usr/local/lib/python3.10/dist-packages (from pandas->oggm) (2023.3.post1)\n",
            "Requirement already satisfied: charset-normalizer<4,>=2 in /usr/local/lib/python3.10/dist-packages (from requests->oggm) (3.3.2)\n",
            "Requirement already satisfied: idna<4,>=2.5 in /usr/local/lib/python3.10/dist-packages (from requests->oggm) (3.6)\n",
            "Requirement already satisfied: urllib3<3,>=1.21.1 in /usr/local/lib/python3.10/dist-packages (from requests->oggm) (2.0.7)\n",
            "Installing collected packages: configobj, cftime, netcdf4, oggm\n",
            "Successfully installed cftime-1.6.3 configobj-5.0.8 netcdf4-1.6.5 oggm-1.6.1\n",
            "Collecting git+https://github.com/OGGM/oggm-edu\n",
            "  Cloning https://github.com/OGGM/oggm-edu to /tmp/pip-req-build-z_hg9ubc\n",
            "  Running command git clone --filter=blob:none --quiet https://github.com/OGGM/oggm-edu /tmp/pip-req-build-z_hg9ubc\n",
            "  Resolved https://github.com/OGGM/oggm-edu to commit 834c973633f0e68be31828876df2f2c0560e53cb\n",
            "  Preparing metadata (setup.py) ... \u001b[?25l\u001b[?25hdone\n",
            "Building wheels for collected packages: oggm-edu\n",
            "  Building wheel for oggm-edu (setup.py) ... \u001b[?25l\u001b[?25hdone\n",
            "  Created wheel for oggm-edu: filename=oggm_edu-0.0.1-py3-none-any.whl size=46431 sha256=174cf420d27a797179947674ef0ca1db2efebc004fc920b82d06afdee3dff382\n",
            "  Stored in directory: /tmp/pip-ephem-wheel-cache-6ieo54v4/wheels/99/db/d2/6baadccf16aea06a633b0a3fb4fd01858ff3287df4b398b691\n",
            "Successfully built oggm-edu\n",
            "Installing collected packages: oggm-edu\n",
            "Successfully installed oggm-edu-0.0.1\n"
          ]
        }
      ]
    },
    {
      "cell_type": "code",
      "execution_count": null,
      "metadata": {
        "id": "dminM8NNKJHM"
      },
      "outputs": [],
      "source": [
        "from oggm_edu import MassBalance, GlacierBed, Glacier, GlacierCollection\n",
        "from matplotlib import pyplot as plt\n",
        "import numpy as np"
      ]
    },
    {
      "cell_type": "markdown",
      "source": [
        "## Part 1: The Concept of Steady State\n",
        "\n",
        "**Part 1a (4 pts):** What does it mean for a glacier to be in steady state, or in equilibrium with it's climate? Use both mathematics and descriptions of the physical state of the glacier to explain this concept.\n",
        "\n",
        "When a glacier is in steady state, it's mass is constant over time. This means that the glacier is neither growing nor shrinking as the amount of accumulation and ablation are the same. Mathematically this looks like:\n",
        "δH/δt = Flow in - Flow out. When the rate is zero, the glacier is in steady state with its environment."
      ],
      "metadata": {
        "id": "nDb1rbBmGhfL"
      }
    },
    {
      "cell_type": "markdown",
      "source": [
        "Start by building a simple glacier domain. Our glacier domain starts at an elevation of 3400 m and ends at an elevation of 1500m. The glacier has a width of 400 m. We set the ELA elevation to 3000 m and define a mass balance gradient (change in mass balance as a function of elevation) to be 44 mm/m. Then we build our glacier object with these properties."
      ],
      "metadata": {
        "id": "3IUTiR_WEqqe"
      }
    },
    {
      "cell_type": "code",
      "execution_count": null,
      "metadata": {
        "id": "EFmWANLGKJHO"
      },
      "outputs": [],
      "source": [
        "# Bed\n",
        "bed = GlacierBed(top=3400, bottom=1500, width=400)\n",
        "# Mass balance\n",
        "mass_balance = MassBalance(ela=3000, gradient=4)\n",
        "# Glacier\n",
        "glacier = Glacier(bed=bed, mass_balance=mass_balance)"
      ]
    },
    {
      "cell_type": "markdown",
      "source": [
        "OGGM provides a simple function to progress our glacier until it reaches a steady state."
      ],
      "metadata": {
        "id": "pgruFQc1M8l-"
      }
    },
    {
      "cell_type": "code",
      "source": [
        "glacier.progress_to_equilibrium()\n",
        "glacier.plot()"
      ],
      "metadata": {
        "id": "KAifB08yM6P0",
        "colab": {
          "base_uri": "https://localhost:8080/",
          "height": 573
        },
        "outputId": "81c44e56-6041-4854-8e47-d6c64cf3d3bd"
      },
      "execution_count": null,
      "outputs": [
        {
          "output_type": "display_data",
          "data": {
            "text/plain": [
              "<Figure size 900x600 with 2 Axes>"
            ],
            "image/png": "[encoded data removed]"
          },
          "metadata": {}
        }
      ]
    },
    {
      "cell_type": "markdown",
      "source": [
        "Now, let's plot the glacier's mass balance as a function of distance along the centerline in this equilibrium state."
      ],
      "metadata": {
        "id": "tWtNpM4SSqGc"
      }
    },
    {
      "cell_type": "code",
      "source": [
        "# We can directly access the annual mass balance of the glacier at every point\n",
        "# on the surface\n",
        "mb = glacier.mass_balance.get_annual_mb(glacier.current_state.surface_h)\n",
        "# Multiply by the widths (converted to meters) and resolution to get\n",
        "# the grid point mass balance\n",
        "mb = mb * glacier.bed.widths * glacier.bed.map_dx *\\\n",
        "        glacier.current_state.dx_meter\n",
        "# Get the glacier thickness at every point on the flowline\n",
        "thick = glacier.current_state.thick;\n",
        "\n",
        "# Create a plot of annual mass balance at every point where the glacier thickness\n",
        "# is greater than zero\n",
        "fig, ax = plt.subplots()\n",
        "ax.plot(glacier.bed.distance_along_glacier[glacier.current_state.thick>0],mb[glacier.current_state.thick>0])\n",
        "ax.set_xlabel('Distance along glacier [km]')\n",
        "ax.set_ylabel('Annual mass ballance ($kg$)');"
      ],
      "metadata": {
        "id": "hA9732-dPAs5",
        "colab": {
          "base_uri": "https://localhost:8080/",
          "height": 449
        },
        "outputId": "31408857-e126-4256-f365-07d829cc30bc"
      },
      "execution_count": null,
      "outputs": [
        {
          "output_type": "display_data",
          "data": {
            "text/plain": [
              "<Figure size 640x480 with 1 Axes>"
            ],
            "image/png": "[encoded data removed]"
          },
          "metadata": {}
        }
      ]
    },
    {
      "cell_type": "markdown",
      "source": [
        "**Part 1b:** Answer the following questions.\n",
        "\n",
        "(1) (1 pt) What is the approximate location (distance along flowline) of the ELA in steady state?\n",
        "\n",
        "  It looks to be around 6.25km.\n",
        "\n",
        "(2) (3 pts) Given what you know about the relationship between mass balance and ice flux, what do you expect a plot of ice ice flux as a function of flowline distance to look like?  \n",
        "\n",
        "  In steady state, the mass balance of the glacier is constant. Ice flux and mass balance is inversely proportional to one another so when the mass balance is constant, so too is the ice flux. Thus the plot should be a straight line with a constant slope."
      ],
      "metadata": {
        "id": "uiMZDY6yS3TT"
      }
    },
    {
      "cell_type": "markdown",
      "source": [
        "**Part 1c (6 pts):** Write a function to calculate the ice flux as a function of distance along the glacier centerline and plot your results. Make sure to label the axes with the correct units! The answer the conceptual question below:\n",
        "\n",
        "(1) Give a physical explanation for the shape of the ice flux function. How would this plot look different if the glacier had not yet reached a steady state?"
      ],
      "metadata": {
        "id": "RLBkWRodON3a"
      }
    },
    {
      "cell_type": "markdown",
      "metadata": {
        "id": "bw9emZJ8KJHP"
      },
      "source": [
        "## Part 2: Changing the mass balance gradient (MBG)  \n",
        "\n",
        "In this section of the notebook, we will explore the impact that mass balance gradients have on the glacier equilibrium state. The MBG is defined as the change of the mass balance with altitude [¹](#References). It depends strongly on the climate at the glacier [²](#References).\n",
        "\n",
        "Let's take a look at the effects of the MBG by creating a few glaciers with different gradients. In the intro notebook our glacier had a gradient of 4 mm/m so lets add a glacier with a weaker gradient and one with a stronger gradient.\n",
        "\n",
        "We will again make use of the `GlacierCollection` to quickly progress and visualise the glaciers."
      ]
    },
    {
      "cell_type": "code",
      "execution_count": null,
      "metadata": {
        "id": "JrdeHlb6KJHP"
      },
      "outputs": [],
      "source": [
        "collection = GlacierCollection()\n",
        "glacier.reset()\n",
        "# Fill the collection. This time we change the attributes on creation.\n",
        "collection.fill(glacier, n=3, attributes_to_change=\n",
        "                {'gradient':[0.3, 4, 15]}\n",
        "               )\n",
        "\n",
        "# Progress collection to the same year.\n",
        "collection.progress_to_equilibrium()\n",
        "collection.plot()"
      ]
    },
    {
      "cell_type": "markdown",
      "source": [
        "We can also directly access and plot the mass balance of each of the glaciers in our collection as a function of elevation."
      ],
      "metadata": {
        "id": "dH32csSoGTNe"
      }
    },
    {
      "cell_type": "code",
      "execution_count": null,
      "metadata": {
        "id": "hnp6-nx6KJHS"
      },
      "outputs": [],
      "source": [
        "collection.plot_mass_balance()"
      ]
    },
    {
      "cell_type": "markdown",
      "metadata": {
        "id": "aFGh7_XbKJHT"
      },
      "source": [
        "A stronger mass balance gradient (flatter line in plot above) implies a larger change of the mass balance with altitude.\n",
        "We can see this in the plot above: The annual mass balance hardly changes with altitude for the glacier with the weakest mass balance gradient (blue) while there is a considerable difference between the top and bottom annual mass balance for the glacier with the strongest mass balance gradient (green)."
      ]
    },
    {
      "cell_type": "markdown",
      "source": [
        "**Part 2a (2 pts):** Answer the following question.\n",
        "\n",
        "(1) How do the equilibrium states of the glaciers differ? Which glacier reached its steady state first? Explain why.\n",
        "\n",
        "Hint: note that you can use the command `collection` to print out the statistics (area, length, volume, etc) or each glacier.\n",
        "\n",
        "\n"
      ],
      "metadata": {
        "id": "TFin9zNcWGzU"
      }
    },
    {
      "cell_type": "markdown",
      "metadata": {
        "id": "_rH-RTapKJHV"
      },
      "source": [
        "## Response time\n",
        "The glacier response time is the period of time a glacier needs to adjust its geometry to changes in mass balance caused by climate change and reach a new equilibrium state.\n",
        "There are a some different definitions for its calculation, OGGM-Edu use the definition from Oerlemans (see formula below) [⁵](#References).\n",
        "\n",
        "A OGGM-Edu glacier has an attribute `.response_time` which is calculated based on difference between the last two equilibrium states in the glacier history.\n",
        "So far we've only showed you how to progress a glacier to equilibrium, but not how to leave it and reach a second one.\n",
        "This will be the first step to getting the response time of a glacier.\n",
        "\n",
        "We use the glacier from the start of the notebook."
      ]
    },
    {
      "cell_type": "code",
      "execution_count": null,
      "metadata": {
        "id": "owo2zHYQKJHW"
      },
      "outputs": [],
      "source": [
        "# Check the state, everything should be zero/nan here.\n",
        "glacier"
      ]
    },
    {
      "cell_type": "markdown",
      "metadata": {
        "id": "CMr_y3OSKJHW"
      },
      "source": [
        "First we progress the glacier to equilibrium"
      ]
    },
    {
      "cell_type": "code",
      "execution_count": null,
      "metadata": {
        "id": "2b87e6CxKJHW"
      },
      "outputs": [],
      "source": [
        "glacier.progress_to_equilibrium()\n",
        "glacier.plot()"
      ]
    },
    {
      "cell_type": "markdown",
      "metadata": {
        "id": "8zmy2fJxKJHW"
      },
      "source": [
        " We can access the stored equilibrium states of a glacier"
      ]
    },
    {
      "cell_type": "code",
      "execution_count": null,
      "metadata": {
        "id": "3tX-UAioKJHW"
      },
      "outputs": [],
      "source": [
        "glacier.eq_states"
      ]
    },
    {
      "cell_type": "markdown",
      "metadata": {
        "id": "UWYjAF5bKJHW"
      },
      "source": [
        "Now we want to set up a climate change scenario for the glacier.\n",
        "This is easily done with the `.add_temperature_bias` method.\n",
        "This method takes a desired temperature bias ($+/-$) and a duration, which specifies how long it will take for the glacier to reach the climate state.\n",
        "For instance, if we set the bias to 1. and the duration to 50, it will take 50 years for the climate to become 1 degree warmer.\n",
        "\n",
        "When a glacier has a climate change scenario the `progress_` methods will internally work a little bit differently, but this is not anything you will notice.\n",
        "\n",
        "Since we are purely interested in the response of the glacier, we create a climate change scenario with the duration of 1 year."
      ]
    },
    {
      "cell_type": "code",
      "execution_count": null,
      "metadata": {
        "id": "NmD8qNrfKJHX"
      },
      "outputs": [],
      "source": [
        "# Add a climate change scenario\n",
        "glacier.add_temperature_bias(bias=1., duration=1)"
      ]
    },
    {
      "cell_type": "markdown",
      "metadata": {
        "id": "sso0XfIeKJHX"
      },
      "source": [
        "**Part 2b (2 pts):** Answer the following question.\n",
        "\n",
        "(1) How will the position of the ELA change when we raise the temperature and why?"
      ]
    },
    {
      "cell_type": "code",
      "execution_count": null,
      "metadata": {
        "id": "j9j9teNnKJHY"
      },
      "outputs": [],
      "source": [
        "# We can then progress the glacier to equilibrium again\n",
        "glacier.progress_to_equilibrium()\n",
        "glacier.plot()"
      ]
    },
    {
      "cell_type": "markdown",
      "metadata": {
        "id": "E2uri5M0KJHZ"
      },
      "source": [
        "The next step is to calculate the response times for our glaciers. One could think that it is as simple as looking at the years above and do a simple subtraction. However this is not the case! In reality the rate at which a glacier changes is ever decreasing and  a complete equilibrium state is never really achieved. Because of this the response time is considered the time it has taken the glacier to complete most of the adjustment, more specifically all but a factor of $1/e$.  \n",
        "\n",
        "For numerical models like our glaciers it is common to use the [volume response time](https://www.tandfonline.com/doi/pdf/10.1080/00040851.1997.12003238?needAccess=true), from Oerlemans [⁵](#References):\n",
        "\n",
        "$$\n",
        "\\tau = t \\left(V=V_2 - \\frac{V_2 - V_1}{e}\\right)\n",
        "$$\n",
        "\n",
        "where $V_1$ and $V_2$ corresponds to the glacier volume at the initial and new equilibrium state respectively.\n",
        "\n",
        "Luckily this is done by our glacier object, so we can just take look at the `.response_time` attribute"
      ]
    },
    {
      "cell_type": "code",
      "execution_count": null,
      "metadata": {
        "id": "cGX5O0ujKJHa"
      },
      "outputs": [],
      "source": [
        "glacier.response_time"
      ]
    },
    {
      "cell_type": "markdown",
      "metadata": {
        "id": "LrfVblfUKJHb"
      },
      "source": [
        "Now that we have introduced the concept of response time we can apply it and see how the different mass balance gradients affect the response time.\n",
        "For this we need a new collection."
      ]
    },
    {
      "cell_type": "code",
      "execution_count": null,
      "metadata": {
        "id": "oM3Y2y8AKJHb"
      },
      "outputs": [],
      "source": [
        "# Bed\n",
        "bed = GlacierBed(top=3400, bottom=1500, width=400)\n",
        "# Mass balance\n",
        "mass_balance = MassBalance(ela=3000, gradient=4)\n",
        "# Glacier\n",
        "glacier = Glacier(bed=bed, mass_balance=mass_balance)\n",
        "\n",
        "collection = GlacierCollection()\n",
        "# Fill the collection. This time we change the attributes on creation.\n",
        "collection.fill(glacier, n=3, attributes_to_change=\n",
        "                {'gradient':[1, 4, 15]}\n",
        "               )\n",
        "\n",
        "collection.progress_to_equilibrium()"
      ]
    },
    {
      "cell_type": "markdown",
      "metadata": {
        "id": "zwUhxxvLKJHc"
      },
      "source": [
        "We then have to set up a climate change scenario for the glaciers in the collection"
      ]
    },
    {
      "cell_type": "code",
      "execution_count": null,
      "metadata": {
        "id": "DFItld2iKJHd"
      },
      "outputs": [],
      "source": [
        "# Same scenario for all the glaciers.\n",
        "collection.glaciers[0].add_temperature_bias(bias=1., duration=1)\n",
        "collection.glaciers[1].add_temperature_bias(bias=1., duration=1)\n",
        "collection.glaciers[2].add_temperature_bias(bias=1., duration=1)\n",
        "\n",
        "# Progress to equilibrium again\n",
        "collection.progress_to_equilibrium()\n",
        "collection.plot_history()"
      ]
    },
    {
      "cell_type": "markdown",
      "metadata": {
        "id": "3-7Ow3r7KJHe"
      },
      "source": [
        "We can also look at the state history for one of the glaciers"
      ]
    },
    {
      "cell_type": "code",
      "execution_count": null,
      "metadata": {
        "id": "bU5YcmAZKJHf"
      },
      "outputs": [],
      "source": [
        "# Plots the glacier outline for the equilibrium states.\n",
        "collection.glaciers[0].plot_state_history(eq_states=True)"
      ]
    },
    {
      "cell_type": "markdown",
      "metadata": {
        "id": "WWsPUOyIKJHf"
      },
      "source": [
        "**Part 2c:** Answer the following questions.   \n",
        "\n",
        "(1) (4 pts) Which glacier adjusts most quickly to the changing climate? Why do you think this might be?   "
      ]
    },
    {
      "cell_type": "markdown",
      "source": [
        "## Part 3: Committed Sea Level Rise ##\n",
        "\n",
        "In the experiment above, we applied a very rapid change in temperature to see how our glaciers would respond. This time, let's try something closer to the real world. We will simulate the response of an idealized glacier similar to Lovenbreen Glacier in Svalbard, Norway. Our goal is to understand how the timing of sea level contributions from Lovenbreen is related to the rate of Arctic warming.   \n",
        "\n",
        "**Part 3a (4 pts):** Define a model glacier using the mass balance gradient and ELA measured for Lovenbreen through the 1970s (Hagen & Liestol, 1990).  \n",
        "\n",
        "![](https://drive.google.com/uc?export=view&id=1eKEdCULoDVXjDPgsm0tjmOPSCo6r214K)   \n",
        "\n",
        "You can assume a linear bed slope of 8.9 degres and an average glacier width of 830 m."
      ],
      "metadata": {
        "id": "RlxzZKMUW9Zj"
      }
    },
    {
      "cell_type": "markdown",
      "source": [
        "Observations suggest that, since 1980, the Arctic has been warming at a rate of approximately 0.75 C per decade due to Arctic amplification (Rantanen et al., 2022). Suppose that Lovenbreen was in steady state in 1980 (and therefore represented by our equilibrium simulation). Then suppose that tomorrow, we can magically cut global emissions to a level where no more warming occurs (i.e., we stay at 2023 temperatures).   \n",
        "\n",
        "**Part 3b (11 pts):** Write a function to apply an appropriate temperature bias to our model of Lovenbreen to account for the last 43 years of warming, and then run the model until the glacier achieves a new equilibrium state. Plot the history of glacier length, volume, and area. Then answer the following questions:   \n",
        "\n",
        "(1) When does the glacier finally reach a new equilibrium state? How is this related to year when we stop increasing the temperature?   \n",
        "\n",
        "(2) How much volume does the glacier lose after the temperature stops increasing?\n",
        "\n",
        "(3) If 361.8 $km^3$ of water are required to raise global sea levels by 1 mm, how much will Lovenbreen contribute to sea level rise even after we stop raising the temperature?     \n",
        "\n",
        "Hint: you can use `glacier.plot_history(show_bias=True)` to include the history of the temperature anomaly in your plot."
      ],
      "metadata": {
        "id": "OPlW4Qakzz99"
      }
    },
    {
      "cell_type": "markdown",
      "source": [
        "Now imagine that instead, tomorrow morning we wake up and someone has discovered a way to reverse warming and bring global temperatures back down to the average 1980 temperature by 2066.  \n",
        "\n",
        "**Part 3c (13 pts):** Write a function to simulate this whole scenario (starting from 1980) and run the glacier until it reaches a new equilibrium state. Plot the glacier history along with the temperature bias time series. Then answer the questions below:   \n",
        "\n",
        "(1) When does mass loss from Lovenbreen end? How does this compare to the time period of abnormal climate forcing?   \n",
        "\n",
        "(2) How does the glacier's final equilibrium state compare to its initial equilibrium state? How long does it take to get back to equilibrium?  \n",
        "\n",
        "(3) Glaciologists sometimes talk about the concept of \"committed sea level rise\" or the long-term mass loss from an ice sheet in response to past perturbations that will occur even if greenhouse gas emissions are reduced or stopped. Based on what you learned from this notebook, should we be more concerned about committed sea level rise from cold polar glaciers/ice caps or from warmer mountain glaciers? Why?"
      ],
      "metadata": {
        "id": "-PMkGPdL3b11"
      }
    },
    {
      "cell_type": "code",
      "source": [
        "#Run to export to pdf for submission\n",
        "!apt-get install texlive texlive-xetex texlive-latex-extra pandoc\n",
        "!pip install pypandoc\n",
        "\n",
        "# Mount your google drive to access the notebook directly\n",
        "from google.colab import drive\n",
        "drive.mount('/content/drive')\n",
        "\n",
        "# Make sure this is set to the location of your notebook in your Google Drive\n",
        "!cp \"/content/drive/MyDrive/Colab Notebooks/PS1_MassBalance_Solutions.ipynb\" ./\n",
        "\n",
        "# Change the name of the export file to [NetID]_PS2_BalanceVelocities.ipynb\n",
        "!jupyter nbconvert --to PDF \"PS1_MassBalance_Solutions.ipynb\""
      ],
      "metadata": {
        "id": "GiK0wtu2NUf8"
      },
      "execution_count": null,
      "outputs": []
    },
    {
      "cell_type": "markdown",
      "metadata": {
        "id": "9npi7y7LKJHf"
      },
      "source": [
        "## References"
      ]
    },
    {
      "cell_type": "markdown",
      "metadata": {
        "id": "fWEDoTxsKJHg"
      },
      "source": [
        "¹ Rasmussen, L. A., & Andreassen, L. M. (2005). Seasonal mass-balance gradients in Norway. *Journal of Glaciology*, 51(175), 601-606.\n",
        "\n",
        "² Oerlemans, J., & Fortuin, J. P. F. (1992). Sensitivity of glaciers and small ice caps to greenhouse warming. *Science, 258(5079)*, 115-117.\n",
        "\n",
        "³ Oerlemans, J. (2001). *Glaciers and climate change*. CRC Press.\n",
        "\n",
        "⁴ Encyclopedia of snow, ice and glaciers, V.P. Singh, P. Singh, and U.K. Haritashya, Editors. 2011, Springer: Dordrecht, The Netherlands. p. 245-256.\n",
        "\n",
        "⁵ Oerlemans, J. (1997). Climate sensitivity of Franz Josef Glacier, New Zealand, as revealed by numerical modeling. *Arctic and Alpine Research*, 29(2), 233-239.\n",
        "\n",
        "⁶ Anderson, B., Lawson, W., & Owens, I. (2008). Response of Franz Josef Glacier Ka Roimata o Hine Hukatere to climate change. Global and Planetary Change, 63(1), 23-30.\n",
        "\n",
        "⁷ Cuffey, K.M. & Paterson, W.S.B. *The Physics of Glaciers, 4th edition*, 704 (Academic Press, 2010).\n"
      ]
    },
    {
      "cell_type": "markdown",
      "metadata": {
        "id": "M19CRVuJKJHh"
      },
      "source": [
        "## What's next?"
      ]
    },
    {
      "cell_type": "markdown",
      "metadata": {
        "id": "NDHRpyK4KJHh"
      },
      "source": [
        "[Back to the table of contents](../welcome.ipynb)"
      ]
    }
  ],
  "metadata": {
    "hide_input": false,
    "kernelspec": {
      "display_name": "Python 3 (ipykernel)",
      "language": "python",
      "name": "python3"
    },
    "language_info": {
      "codemirror_mode": {
        "name": "ipython",
        "version": 3
      },
      "file_extension": ".py",
      "mimetype": "text/x-python",
      "name": "python",
      "nbconvert_exporter": "python",
      "pygments_lexer": "ipython3",
      "version": "3.11.4"
    },
    "toc": {
      "base_numbering": 1,
      "nav_menu": {},
      "number_sections": false,
      "sideBar": true,
      "skip_h1_title": true,
      "title_cell": "Table of Contents",
      "title_sidebar": "Contents",
      "toc_cell": false,
      "toc_position": {},
      "toc_section_display": true,
      "toc_window_display": false
    },
    "colab": {
      "provenance": [],
      "include_colab_link": true
    }
  },
  "nbformat": 4,
  "nbformat_minor": 0
}